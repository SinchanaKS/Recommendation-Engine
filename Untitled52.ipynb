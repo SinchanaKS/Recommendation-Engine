{
  "cells": [
    {
      "cell_type": "markdown",
      "metadata": {
        "id": "view-in-github",
        "colab_type": "text"
      },
      "source": [
        "<a href=\"https://colab.research.google.com/github/SinchanaKS/Recommendation-Engine/blob/main/Untitled52.ipynb\" target=\"_parent\"><img src=\"https://colab.research.google.com/assets/colab-badge.svg\" alt=\"Open In Colab\"/></a>"
      ]
    },
    {
      "cell_type": "code",
      "execution_count": 1,
      "metadata": {
        "colab": {
          "base_uri": "https://localhost:8080/"
        },
        "id": "pzXN98jWguJ3",
        "outputId": "0dde5103-963e-4e73-ae5c-6756e98e4e87"
      },
      "outputs": [
        {
          "output_type": "stream",
          "name": "stdout",
          "text": [
            "Collecting surprise\n",
            "  Downloading surprise-0.1-py2.py3-none-any.whl (1.8 kB)\n",
            "Collecting scikit-surprise (from surprise)\n",
            "  Downloading scikit-surprise-1.1.3.tar.gz (771 kB)\n",
            "\u001b[?25l     \u001b[90m━━━━━━━━━━━━━━━━━━━━━━━━━━━━━━━━━━━━━━━━\u001b[0m \u001b[32m0.0/772.0 kB\u001b[0m \u001b[31m?\u001b[0m eta \u001b[36m-:--:--\u001b[0m\r\u001b[2K     \u001b[91m━━━━━━\u001b[0m\u001b[90m╺\u001b[0m\u001b[90m━━━━━━━━━━━━━━━━━━━━━━━━━━━━━━━━━\u001b[0m \u001b[32m122.9/772.0 kB\u001b[0m \u001b[31m3.8 MB/s\u001b[0m eta \u001b[36m0:00:01\u001b[0m\r\u001b[2K     \u001b[91m━━━━━━━━━━━━━━━━━━━━━━━━━━━━━━━━━━━━━━━\u001b[0m\u001b[91m╸\u001b[0m \u001b[32m768.0/772.0 kB\u001b[0m \u001b[31m12.7 MB/s\u001b[0m eta \u001b[36m0:00:01\u001b[0m\r\u001b[2K     \u001b[90m━━━━━━━━━━━━━━━━━━━━━━━━━━━━━━━━━━━━━━━━\u001b[0m \u001b[32m772.0/772.0 kB\u001b[0m \u001b[31m11.0 MB/s\u001b[0m eta \u001b[36m0:00:00\u001b[0m\n",
            "\u001b[?25h  Preparing metadata (setup.py) ... \u001b[?25l\u001b[?25hdone\n",
            "Requirement already satisfied: joblib>=1.0.0 in /usr/local/lib/python3.10/dist-packages (from scikit-surprise->surprise) (1.3.2)\n",
            "Requirement already satisfied: numpy>=1.17.3 in /usr/local/lib/python3.10/dist-packages (from scikit-surprise->surprise) (1.23.5)\n",
            "Requirement already satisfied: scipy>=1.3.2 in /usr/local/lib/python3.10/dist-packages (from scikit-surprise->surprise) (1.11.3)\n",
            "Building wheels for collected packages: scikit-surprise\n",
            "  Building wheel for scikit-surprise (setup.py) ... \u001b[?25l\u001b[?25hdone\n",
            "  Created wheel for scikit-surprise: filename=scikit_surprise-1.1.3-cp310-cp310-linux_x86_64.whl size=3163483 sha256=4942f5e91f458c1789448885d6d3bfe3655581a54e8ed8cde8867759afca09f7\n",
            "  Stored in directory: /root/.cache/pip/wheels/a5/ca/a8/4e28def53797fdc4363ca4af740db15a9c2f1595ebc51fb445\n",
            "Successfully built scikit-surprise\n",
            "Installing collected packages: scikit-surprise, surprise\n",
            "Successfully installed scikit-surprise-1.1.3 surprise-0.1\n"
          ]
        }
      ],
      "source": [
        "import pandas as pd\n",
        "import numpy as np\n",
        "import math\n",
        "import re\n",
        "!pip install surprise\n",
        "from scipy.sparse import csr_matrix\n",
        "import matplotlib.pyplot as plt\n",
        "import seaborn as sns\n",
        "from surprise import Reader, Dataset, SVD\n",
        "from surprise.model_selection import cross_validate\n",
        "sns.set_style(\"darkgrid\")"
      ]
    },
    {
      "cell_type": "code",
      "execution_count": 2,
      "metadata": {
        "colab": {
          "base_uri": "https://localhost:8080/"
        },
        "id": "VcNv3rLLhDP-",
        "outputId": "da9b3b7c-8253-4caf-f336-e7b748f4c2db"
      },
      "outputs": [
        {
          "output_type": "stream",
          "name": "stdout",
          "text": [
            "Dataset 1 shape: (50970, 2)\n",
            "-Dataset examples-\n",
            "  Cust_Id  Rating\n",
            "0      1:     NaN\n",
            "Dataset 2 shape: (50957, 2)\n",
            "Dataset 3 shape: (50967, 2)\n",
            "Dataset 4 shape: (50963, 2)\n"
          ]
        }
      ],
      "source": [
        "df1 = pd.read_csv('/content/combined_data_1.txt', header = None, names = ['Cust_Id', 'Rating'], usecols = [0,1])\n",
        "\n",
        "df1['Rating'] = df1['Rating'].astype(float)\n",
        "\n",
        "print('Dataset 1 shape: {}'.format(df1.shape))\n",
        "print('-Dataset examples-')\n",
        "print(df1.iloc[::5000000, :])\n",
        "df2 = pd.read_csv('/content/combined_data_2.txt', header = None, names = ['Cust_Id', 'Rating'], usecols = [0,1])\n",
        "df3 = pd.read_csv('/content/combined_data_3.txt', header = None, names = ['Cust_Id', 'Rating'], usecols = [0,1])\n",
        "df4 = pd.read_csv('/content/combined_data_4.txt', header = None, names = ['Cust_Id', 'Rating'], usecols = [0,1])\n",
        "\n",
        "\n",
        "df2['Rating'] = df2['Rating'].astype(float)\n",
        "df3['Rating'] = df3['Rating'].astype(float)\n",
        "df4['Rating'] = df4['Rating'].astype(float)\n",
        "\n",
        "print('Dataset 2 shape: {}'.format(df2.shape))\n",
        "print('Dataset 3 shape: {}'.format(df3.shape))\n",
        "print('Dataset 4 shape: {}'.format(df4.shape))"
      ]
    },
    {
      "cell_type": "code",
      "source": [],
      "metadata": {
        "id": "_eOgZg2pEiP7"
      },
      "execution_count": null,
      "outputs": []
    },
    {
      "cell_type": "code",
      "source": [],
      "metadata": {
        "id": "bt_AY8FcEjhT"
      },
      "execution_count": null,
      "outputs": []
    },
    {
      "cell_type": "code",
      "execution_count": 3,
      "metadata": {
        "colab": {
          "base_uri": "https://localhost:8080/"
        },
        "id": "JkLJ9eEPyu3l",
        "outputId": "80f2f8c9-72eb-496e-bb91-5b4eb8c203ae"
      },
      "outputs": [
        {
          "output_type": "stream",
          "name": "stdout",
          "text": [
            "Full dataset shape: (203857, 2)\n",
            "-Dataset examples-\n",
            "  Cust_Id  Rating\n",
            "0      1:     NaN\n"
          ]
        },
        {
          "output_type": "stream",
          "name": "stderr",
          "text": [
            "<ipython-input-3-50c81a2be727>:2: FutureWarning: The frame.append method is deprecated and will be removed from pandas in a future version. Use pandas.concat instead.\n",
            "  df = df1.append(df2)\n",
            "<ipython-input-3-50c81a2be727>:3: FutureWarning: The frame.append method is deprecated and will be removed from pandas in a future version. Use pandas.concat instead.\n",
            "  df = df.append(df3)\n",
            "<ipython-input-3-50c81a2be727>:4: FutureWarning: The frame.append method is deprecated and will be removed from pandas in a future version. Use pandas.concat instead.\n",
            "  df = df.append(df4)\n"
          ]
        }
      ],
      "source": [
        "df = df1\n",
        "df = df1.append(df2)\n",
        "df = df.append(df3)\n",
        "df = df.append(df4)\n",
        "\n",
        "df.index = np.arange(0,len(df))\n",
        "print('Full dataset shape: {}'.format(df.shape))\n",
        "print('-Dataset examples-')\n",
        "print(df.iloc[::5000000, :])"
      ]
    },
    {
      "cell_type": "code",
      "execution_count": 4,
      "metadata": {
        "colab": {
          "base_uri": "https://localhost:8080/",
          "height": 857
        },
        "id": "ASnSLz9hy2OU",
        "outputId": "c8ed2ab8-fa9c-4cf1-b9c7-604cb718985c"
      },
      "outputs": [
        {
          "output_type": "display_data",
          "data": {
            "text/plain": [
              "<Figure size 1500x1000 with 1 Axes>"
            ],
            "image/png": "[encoded data removed]"
          },
          "metadata": {}
        }
      ],
      "source": [
        "p = df.groupby('Rating')['Rating'].agg(['count'])\n",
        "\n",
        "# get movie count\n",
        "movie_count = df.isnull().sum()[1]\n",
        "\n",
        "# get customer count\n",
        "cust_count = df['Cust_Id'].nunique() - movie_count\n",
        "\n",
        "# get rating count\n",
        "rating_count = df['Cust_Id'].count() - movie_count\n",
        "\n",
        "ax = p.plot(kind = 'barh', legend = False, figsize = (15,10))\n",
        "plt.title('Total pool: {:,} Movies, {:,} customers, {:,} ratings given'.format(movie_count, cust_count, rating_count), fontsize=20)\n",
        "plt.axis('off')\n",
        "for i in range(1,6):\n",
        "    ax.text(p.iloc[i-1][0]/4, i-1, 'Rating {}: {:.0f}%'.format(i, p.iloc[i-1][0]*100 / p.sum()[0]), color = 'white', weight = 'bold')"
      ]
    },
    {
      "cell_type": "code",
      "execution_count": 5,
      "metadata": {
        "colab": {
          "base_uri": "https://localhost:8080/"
        },
        "id": "AlXL0euSy-p_",
        "outputId": "d1ca34c7-ce24-4e61-d8d5-9d6c04c1d169"
      },
      "outputs": [
        {
          "output_type": "stream",
          "name": "stdout",
          "text": [
            "Movie numpy: [ 1.  1.  1. ... 79. 79. 79.]\n",
            "Length: 203778\n"
          ]
        }
      ],
      "source": [
        "df_nan = pd.DataFrame(pd.isnull(df.Rating))\n",
        "df_nan = df_nan[df_nan['Rating'] == True]\n",
        "df_nan = df_nan.reset_index()\n",
        "\n",
        "movie_np = []\n",
        "movie_id = 1\n",
        "\n",
        "for i,j in zip(df_nan['index'][1:],df_nan['index'][:-1]):\n",
        "    # numpy approach\n",
        "    temp = np.full((1,i-j-1), movie_id)\n",
        "    movie_np = np.append(movie_np, temp)\n",
        "    movie_id += 1\n",
        "last_record = np.full((1,len(df) - df_nan.iloc[-1, 0] - 1),movie_id)\n",
        "movie_np = np.append(movie_np, last_record)\n",
        "\n",
        "print('Movie numpy: {}'.format(movie_np))\n",
        "print('Length: {}'.format(len(movie_np)))"
      ]
    },
    {
      "cell_type": "code",
      "execution_count": 6,
      "metadata": {
        "colab": {
          "base_uri": "https://localhost:8080/"
        },
        "id": "trbNjHLjzf29",
        "outputId": "36717477-fda7-4ae0-c7bb-e4e4553d0c26"
      },
      "outputs": [
        {
          "output_type": "stream",
          "name": "stdout",
          "text": [
            "-Dataset examples-\n",
            "   Cust_Id  Rating  Movie_Id\n",
            "1  1488844     3.0         1\n"
          ]
        },
        {
          "output_type": "stream",
          "name": "stderr",
          "text": [
            "<ipython-input-6-6f95882c24ee>:3: SettingWithCopyWarning: \n",
            "A value is trying to be set on a copy of a slice from a DataFrame.\n",
            "Try using .loc[row_indexer,col_indexer] = value instead\n",
            "\n",
            "See the caveats in the documentation: https://pandas.pydata.org/pandas-docs/stable/user_guide/indexing.html#returning-a-view-versus-a-copy\n",
            "  df['Movie_Id'] = movie_np.astype(int)\n",
            "<ipython-input-6-6f95882c24ee>:4: SettingWithCopyWarning: \n",
            "A value is trying to be set on a copy of a slice from a DataFrame.\n",
            "Try using .loc[row_indexer,col_indexer] = value instead\n",
            "\n",
            "See the caveats in the documentation: https://pandas.pydata.org/pandas-docs/stable/user_guide/indexing.html#returning-a-view-versus-a-copy\n",
            "  df['Cust_Id'] = df['Cust_Id'].astype(int)\n"
          ]
        }
      ],
      "source": [
        "df = df[pd.notnull(df['Rating'])]\n",
        "\n",
        "df['Movie_Id'] = movie_np.astype(int)\n",
        "df['Cust_Id'] = df['Cust_Id'].astype(int)\n",
        "print('-Dataset examples-')\n",
        "print(df.iloc[::5000000, :])"
      ]
    },
    {
      "cell_type": "code",
      "execution_count": 7,
      "metadata": {
        "colab": {
          "base_uri": "https://localhost:8080/"
        },
        "id": "iMbbtMIYzr6S",
        "outputId": "bc1373cf-66a8-4623-a866-5d9f0fc6cdbc"
      },
      "outputs": [
        {
          "output_type": "stream",
          "name": "stdout",
          "text": [
            "Movie minimum times of review: 2006.0\n",
            "Customer minimum times of review: 2.0\n"
          ]
        }
      ],
      "source": [
        "f = ['count','mean']\n",
        "\n",
        "df_movie_summary = df.groupby('Movie_Id')['Rating'].agg(f)\n",
        "df_movie_summary.index = df_movie_summary.index.map(int)\n",
        "movie_benchmark = round(df_movie_summary['count'].quantile(0.7),0)\n",
        "drop_movie_list = df_movie_summary[df_movie_summary['count'] < movie_benchmark].index\n",
        "\n",
        "print('Movie minimum times of review: {}'.format(movie_benchmark))\n",
        "\n",
        "df_cust_summary = df.groupby('Cust_Id')['Rating'].agg(f)\n",
        "df_cust_summary.index = df_cust_summary.index.map(int)\n",
        "cust_benchmark = round(df_cust_summary['count'].quantile(0.7),0)\n",
        "drop_cust_list = df_cust_summary[df_cust_summary['count'] < cust_benchmark].index\n",
        "\n",
        "print('Customer minimum times of review: {}'.format(cust_benchmark))"
      ]
    },
    {
      "cell_type": "code",
      "execution_count": 8,
      "metadata": {
        "colab": {
          "base_uri": "https://localhost:8080/"
        },
        "id": "DNhxzoVDzwB4",
        "outputId": "3eca2d3f-50ba-4bb9-9930-3af3178f995b"
      },
      "outputs": [
        {
          "output_type": "stream",
          "name": "stdout",
          "text": [
            "(116116, 78)\n"
          ]
        }
      ],
      "source": [
        "df_p = pd.pivot_table(df,values='Rating',index='Cust_Id',columns='Movie_Id')\n",
        "print(df_p.shape)"
      ]
    },
    {
      "cell_type": "code",
      "source": [
        "df_title = pd.read_csv('/content/movie_titles.csv', encoding = \"ISO-8859-1\", header = None, names = ['Movie_Id', 'Year', 'Name'],error_bad_lines=False)\n",
        "df_title.set_index('Movie_Id', inplace = True)\n",
        "print (df_title.head(10))"
      ],
      "metadata": {
        "colab": {
          "base_uri": "https://localhost:8080/"
        },
        "id": "HM-8yNtCEnHi",
        "outputId": "2effc027-51b9-44c3-fb2b-1395ca3df0e8"
      },
      "execution_count": 9,
      "outputs": [
        {
          "output_type": "stream",
          "name": "stdout",
          "text": [
            "            Year                          Name\n",
            "Movie_Id                                      \n",
            "1         2003.0               Dinosaur Planet\n",
            "2         2004.0    Isle of Man TT 2004 Review\n",
            "3         1997.0                     Character\n",
            "4         1994.0  Paula Abdul's Get Up & Dance\n",
            "5         2004.0      The Rise and Fall of ECW\n",
            "6         1997.0                          Sick\n",
            "7         1992.0                         8 Man\n",
            "8         2004.0    What the #$*! Do We Know!?\n",
            "9         1991.0      Class of Nuke 'Em High 2\n",
            "10        2001.0                       Fighter\n"
          ]
        },
        {
          "output_type": "stream",
          "name": "stderr",
          "text": [
            "<ipython-input-9-d1f084f818ce>:1: FutureWarning: The error_bad_lines argument has been deprecated and will be removed in a future version. Use on_bad_lines in the future.\n",
            "\n",
            "\n",
            "  df_title = pd.read_csv('/content/movie_titles.csv', encoding = \"ISO-8859-1\", header = None, names = ['Movie_Id', 'Year', 'Name'],error_bad_lines=False)\n",
            "Skipping line 72: expected 3 fields, saw 4\n",
            "Skipping line 264: expected 3 fields, saw 5\n",
            "Skipping line 350: expected 3 fields, saw 4\n",
            "Skipping line 366: expected 3 fields, saw 4\n",
            "Skipping line 394: expected 3 fields, saw 4\n",
            "Skipping line 466: expected 3 fields, saw 4\n",
            "Skipping line 582: expected 3 fields, saw 4\n",
            "Skipping line 600: expected 3 fields, saw 4\n",
            "Skipping line 670: expected 3 fields, saw 4\n",
            "Skipping line 672: expected 3 fields, saw 4\n",
            "Skipping line 729: expected 3 fields, saw 4\n",
            "Skipping line 776: expected 3 fields, saw 4\n",
            "Skipping line 827: expected 3 fields, saw 4\n",
            "Skipping line 834: expected 3 fields, saw 4\n",
            "Skipping line 891: expected 3 fields, saw 4\n",
            "Skipping line 913: expected 3 fields, saw 4\n",
            "Skipping line 944: expected 3 fields, saw 4\n",
            "Skipping line 973: expected 3 fields, saw 4\n",
            "Skipping line 1010: expected 3 fields, saw 4\n",
            "Skipping line 1015: expected 3 fields, saw 4\n",
            "Skipping line 1058: expected 3 fields, saw 4\n",
            "Skipping line 1095: expected 3 fields, saw 4\n",
            "Skipping line 1170: expected 3 fields, saw 4\n",
            "Skipping line 1210: expected 3 fields, saw 4\n",
            "Skipping line 1286: expected 3 fields, saw 4\n",
            "Skipping line 1520: expected 3 fields, saw 4\n",
            "Skipping line 1559: expected 3 fields, saw 4\n",
            "Skipping line 1629: expected 3 fields, saw 4\n",
            "Skipping line 1647: expected 3 fields, saw 4\n",
            "Skipping line 1654: expected 3 fields, saw 4\n",
            "Skipping line 1658: expected 3 fields, saw 4\n",
            "Skipping line 1674: expected 3 fields, saw 4\n",
            "Skipping line 1745: expected 3 fields, saw 4\n",
            "Skipping line 1752: expected 3 fields, saw 4\n",
            "Skipping line 2107: expected 3 fields, saw 4\n",
            "Skipping line 2176: expected 3 fields, saw 4\n",
            "Skipping line 2178: expected 3 fields, saw 4\n",
            "Skipping line 2361: expected 3 fields, saw 5\n",
            "Skipping line 2410: expected 3 fields, saw 4\n",
            "Skipping line 2428: expected 3 fields, saw 4\n",
            "Skipping line 2433: expected 3 fields, saw 4\n",
            "Skipping line 2462: expected 3 fields, saw 4\n",
            "Skipping line 2598: expected 3 fields, saw 4\n",
            "Skipping line 2625: expected 3 fields, saw 4\n",
            "Skipping line 2628: expected 3 fields, saw 4\n",
            "Skipping line 2691: expected 3 fields, saw 4\n",
            "Skipping line 2722: expected 3 fields, saw 4\n",
            "Skipping line 2772: expected 3 fields, saw 4\n",
            "Skipping line 2796: expected 3 fields, saw 4\n",
            "Skipping line 2830: expected 3 fields, saw 4\n",
            "Skipping line 2854: expected 3 fields, saw 4\n",
            "Skipping line 2878: expected 3 fields, saw 4\n",
            "Skipping line 2889: expected 3 fields, saw 4\n",
            "Skipping line 2947: expected 3 fields, saw 4\n",
            "Skipping line 3023: expected 3 fields, saw 4\n",
            "Skipping line 3083: expected 3 fields, saw 4\n",
            "Skipping line 3140: expected 3 fields, saw 4\n",
            "Skipping line 3163: expected 3 fields, saw 4\n",
            "Skipping line 3227: expected 3 fields, saw 4\n",
            "Skipping line 3238: expected 3 fields, saw 4\n",
            "Skipping line 3290: expected 3 fields, saw 4\n",
            "Skipping line 3428: expected 3 fields, saw 4\n",
            "Skipping line 3429: expected 3 fields, saw 4\n",
            "Skipping line 3440: expected 3 fields, saw 4\n",
            "Skipping line 3509: expected 3 fields, saw 4\n",
            "Skipping line 3561: expected 3 fields, saw 4\n",
            "Skipping line 3569: expected 3 fields, saw 4\n",
            "Skipping line 3591: expected 3 fields, saw 4\n",
            "Skipping line 3595: expected 3 fields, saw 4\n",
            "Skipping line 3634: expected 3 fields, saw 4\n",
            "Skipping line 3880: expected 3 fields, saw 4\n",
            "Skipping line 3933: expected 3 fields, saw 5\n",
            "Skipping line 4005: expected 3 fields, saw 4\n",
            "Skipping line 4029: expected 3 fields, saw 4\n",
            "Skipping line 4059: expected 3 fields, saw 4\n",
            "Skipping line 4105: expected 3 fields, saw 4\n",
            "Skipping line 4125: expected 3 fields, saw 4\n",
            "Skipping line 4153: expected 3 fields, saw 4\n",
            "Skipping line 4168: expected 3 fields, saw 4\n",
            "Skipping line 4268: expected 3 fields, saw 5\n",
            "Skipping line 4325: expected 3 fields, saw 4\n",
            "Skipping line 4335: expected 3 fields, saw 4\n",
            "Skipping line 4433: expected 3 fields, saw 4\n",
            "Skipping line 4436: expected 3 fields, saw 4\n",
            "Skipping line 4444: expected 3 fields, saw 5\n",
            "Skipping line 4518: expected 3 fields, saw 4\n",
            "Skipping line 4550: expected 3 fields, saw 4\n",
            "Skipping line 4608: expected 3 fields, saw 4\n",
            "Skipping line 4651: expected 3 fields, saw 4\n",
            "Skipping line 4933: expected 3 fields, saw 4\n",
            "Skipping line 4982: expected 3 fields, saw 4\n",
            "Skipping line 4993: expected 3 fields, saw 4\n",
            "Skipping line 5087: expected 3 fields, saw 4\n",
            "Skipping line 5223: expected 3 fields, saw 4\n",
            "Skipping line 5334: expected 3 fields, saw 4\n",
            "Skipping line 5404: expected 3 fields, saw 5\n",
            "Skipping line 5485: expected 3 fields, saw 4\n",
            "Skipping line 5496: expected 3 fields, saw 4\n",
            "Skipping line 5544: expected 3 fields, saw 4\n",
            "Skipping line 5553: expected 3 fields, saw 4\n",
            "Skipping line 5555: expected 3 fields, saw 4\n",
            "Skipping line 5624: expected 3 fields, saw 4\n",
            "Skipping line 5692: expected 3 fields, saw 4\n",
            "Skipping line 5714: expected 3 fields, saw 4\n",
            "Skipping line 5778: expected 3 fields, saw 4\n",
            "Skipping line 5912: expected 3 fields, saw 4\n",
            "Skipping line 5917: expected 3 fields, saw 6\n",
            "Skipping line 5966: expected 3 fields, saw 4\n",
            "Skipping line 5976: expected 3 fields, saw 5\n",
            "Skipping line 6110: expected 3 fields, saw 6\n",
            "Skipping line 6111: expected 3 fields, saw 4\n",
            "Skipping line 6281: expected 3 fields, saw 4\n",
            "Skipping line 6374: expected 3 fields, saw 4\n",
            "Skipping line 6392: expected 3 fields, saw 4\n",
            "Skipping line 6408: expected 3 fields, saw 4\n",
            "Skipping line 6472: expected 3 fields, saw 4\n",
            "Skipping line 6515: expected 3 fields, saw 4\n",
            "Skipping line 6525: expected 3 fields, saw 4\n",
            "Skipping line 6580: expected 3 fields, saw 4\n",
            "Skipping line 6696: expected 3 fields, saw 4\n",
            "Skipping line 6772: expected 3 fields, saw 4\n",
            "Skipping line 6777: expected 3 fields, saw 6\n",
            "Skipping line 6924: expected 3 fields, saw 4\n",
            "Skipping line 7096: expected 3 fields, saw 4\n",
            "Skipping line 7116: expected 3 fields, saw 4\n",
            "Skipping line 7213: expected 3 fields, saw 4\n",
            "Skipping line 7378: expected 3 fields, saw 4\n",
            "Skipping line 7474: expected 3 fields, saw 4\n",
            "Skipping line 7530: expected 3 fields, saw 4\n",
            "Skipping line 7653: expected 3 fields, saw 5\n",
            "Skipping line 7767: expected 3 fields, saw 4\n",
            "Skipping line 7834: expected 3 fields, saw 4\n",
            "Skipping line 8006: expected 3 fields, saw 4\n",
            "Skipping line 8048: expected 3 fields, saw 4\n",
            "Skipping line 8094: expected 3 fields, saw 4\n",
            "Skipping line 8108: expected 3 fields, saw 4\n",
            "Skipping line 8114: expected 3 fields, saw 6\n",
            "Skipping line 8188: expected 3 fields, saw 4\n",
            "Skipping line 8294: expected 3 fields, saw 4\n",
            "Skipping line 8338: expected 3 fields, saw 5\n",
            "Skipping line 8410: expected 3 fields, saw 4\n",
            "Skipping line 8478: expected 3 fields, saw 4\n",
            "Skipping line 8511: expected 3 fields, saw 4\n",
            "Skipping line 8557: expected 3 fields, saw 4\n",
            "Skipping line 8588: expected 3 fields, saw 5\n",
            "Skipping line 8655: expected 3 fields, saw 5\n",
            "Skipping line 8683: expected 3 fields, saw 4\n",
            "Skipping line 8688: expected 3 fields, saw 4\n",
            "Skipping line 8690: expected 3 fields, saw 4\n",
            "Skipping line 8733: expected 3 fields, saw 4\n",
            "Skipping line 8806: expected 3 fields, saw 4\n",
            "Skipping line 8812: expected 3 fields, saw 4\n",
            "Skipping line 8824: expected 3 fields, saw 4\n",
            "Skipping line 8858: expected 3 fields, saw 4\n",
            "Skipping line 8871: expected 3 fields, saw 4\n",
            "Skipping line 8873: expected 3 fields, saw 4\n",
            "Skipping line 8889: expected 3 fields, saw 4\n",
            "Skipping line 8899: expected 3 fields, saw 5\n",
            "Skipping line 8908: expected 3 fields, saw 4\n",
            "Skipping line 8909: expected 3 fields, saw 4\n",
            "Skipping line 8911: expected 3 fields, saw 4\n",
            "Skipping line 8965: expected 3 fields, saw 4\n",
            "Skipping line 9075: expected 3 fields, saw 5\n",
            "Skipping line 9106: expected 3 fields, saw 4\n",
            "Skipping line 9367: expected 3 fields, saw 4\n",
            "Skipping line 9398: expected 3 fields, saw 4\n",
            "Skipping line 9403: expected 3 fields, saw 4\n",
            "Skipping line 9460: expected 3 fields, saw 4\n",
            "Skipping line 9489: expected 3 fields, saw 4\n",
            "Skipping line 9500: expected 3 fields, saw 4\n",
            "Skipping line 9582: expected 3 fields, saw 4\n",
            "Skipping line 9595: expected 3 fields, saw 5\n",
            "Skipping line 9604: expected 3 fields, saw 5\n",
            "Skipping line 9695: expected 3 fields, saw 4\n",
            "Skipping line 9713: expected 3 fields, saw 4\n",
            "Skipping line 9739: expected 3 fields, saw 4\n",
            "Skipping line 9760: expected 3 fields, saw 4\n",
            "Skipping line 9868: expected 3 fields, saw 5\n",
            "Skipping line 9976: expected 3 fields, saw 4\n",
            "Skipping line 10044: expected 3 fields, saw 4\n",
            "Skipping line 10087: expected 3 fields, saw 4\n",
            "Skipping line 10097: expected 3 fields, saw 4\n",
            "Skipping line 10223: expected 3 fields, saw 4\n",
            "Skipping line 10321: expected 3 fields, saw 4\n",
            "Skipping line 10369: expected 3 fields, saw 4\n",
            "Skipping line 10557: expected 3 fields, saw 4\n",
            "Skipping line 10564: expected 3 fields, saw 5\n",
            "Skipping line 10619: expected 3 fields, saw 4\n",
            "Skipping line 10649: expected 3 fields, saw 4\n",
            "Skipping line 10676: expected 3 fields, saw 4\n",
            "Skipping line 10690: expected 3 fields, saw 4\n",
            "Skipping line 10795: expected 3 fields, saw 4\n",
            "Skipping line 10839: expected 3 fields, saw 5\n",
            "Skipping line 10860: expected 3 fields, saw 6\n",
            "Skipping line 10887: expected 3 fields, saw 4\n",
            "Skipping line 10941: expected 3 fields, saw 4\n",
            "Skipping line 10948: expected 3 fields, saw 4\n",
            "Skipping line 10950: expected 3 fields, saw 4\n",
            "Skipping line 10967: expected 3 fields, saw 4\n",
            "Skipping line 11083: expected 3 fields, saw 4\n",
            "Skipping line 11089: expected 3 fields, saw 4\n",
            "Skipping line 11114: expected 3 fields, saw 4\n",
            "Skipping line 11116: expected 3 fields, saw 4\n",
            "Skipping line 11176: expected 3 fields, saw 4\n",
            "Skipping line 11206: expected 3 fields, saw 4\n",
            "Skipping line 11298: expected 3 fields, saw 4\n",
            "Skipping line 11333: expected 3 fields, saw 4\n",
            "Skipping line 11353: expected 3 fields, saw 4\n",
            "Skipping line 11362: expected 3 fields, saw 4\n",
            "Skipping line 11405: expected 3 fields, saw 4\n",
            "Skipping line 11583: expected 3 fields, saw 4\n",
            "Skipping line 11646: expected 3 fields, saw 4\n",
            "Skipping line 11688: expected 3 fields, saw 4\n",
            "Skipping line 11714: expected 3 fields, saw 4\n",
            "Skipping line 11883: expected 3 fields, saw 4\n",
            "Skipping line 11917: expected 3 fields, saw 4\n",
            "Skipping line 11983: expected 3 fields, saw 5\n",
            "Skipping line 11996: expected 3 fields, saw 4\n",
            "Skipping line 12031: expected 3 fields, saw 4\n",
            "Skipping line 12209: expected 3 fields, saw 4\n",
            "Skipping line 12218: expected 3 fields, saw 4\n",
            "Skipping line 12353: expected 3 fields, saw 6\n",
            "Skipping line 12413: expected 3 fields, saw 4\n",
            "Skipping line 12423: expected 3 fields, saw 4\n",
            "Skipping line 12510: expected 3 fields, saw 4\n",
            "Skipping line 12531: expected 3 fields, saw 4\n",
            "Skipping line 12586: expected 3 fields, saw 4\n",
            "Skipping line 12619: expected 3 fields, saw 4\n",
            "Skipping line 12691: expected 3 fields, saw 4\n",
            "Skipping line 12692: expected 3 fields, saw 4\n",
            "Skipping line 12693: expected 3 fields, saw 4\n",
            "Skipping line 12715: expected 3 fields, saw 6\n",
            "Skipping line 12850: expected 3 fields, saw 4\n",
            "Skipping line 12880: expected 3 fields, saw 4\n",
            "Skipping line 12884: expected 3 fields, saw 4\n",
            "Skipping line 12916: expected 3 fields, saw 4\n",
            "Skipping line 12976: expected 3 fields, saw 4\n",
            "Skipping line 13024: expected 3 fields, saw 5\n",
            "Skipping line 13104: expected 3 fields, saw 4\n",
            "Skipping line 13151: expected 3 fields, saw 4\n",
            "Skipping line 13173: expected 3 fields, saw 4\n",
            "Skipping line 13202: expected 3 fields, saw 4\n",
            "Skipping line 13209: expected 3 fields, saw 4\n",
            "Skipping line 13231: expected 3 fields, saw 4\n",
            "Skipping line 13263: expected 3 fields, saw 4\n",
            "Skipping line 13314: expected 3 fields, saw 4\n",
            "Skipping line 13345: expected 3 fields, saw 4\n",
            "Skipping line 13364: expected 3 fields, saw 4\n",
            "Skipping line 13428: expected 3 fields, saw 4\n",
            "Skipping line 13482: expected 3 fields, saw 5\n",
            "Skipping line 13504: expected 3 fields, saw 4\n",
            "Skipping line 13554: expected 3 fields, saw 4\n",
            "Skipping line 13572: expected 3 fields, saw 4\n",
            "Skipping line 13693: expected 3 fields, saw 4\n",
            "Skipping line 13781: expected 3 fields, saw 4\n",
            "Skipping line 13802: expected 3 fields, saw 4\n",
            "Skipping line 13940: expected 3 fields, saw 4\n",
            "Skipping line 13977: expected 3 fields, saw 4\n",
            "Skipping line 13988: expected 3 fields, saw 4\n",
            "Skipping line 13997: expected 3 fields, saw 4\n",
            "Skipping line 14040: expected 3 fields, saw 4\n",
            "Skipping line 14172: expected 3 fields, saw 4\n",
            "Skipping line 14249: expected 3 fields, saw 4\n",
            "Skipping line 14264: expected 3 fields, saw 6\n",
            "Skipping line 14290: expected 3 fields, saw 4\n",
            "Skipping line 14327: expected 3 fields, saw 4\n",
            "Skipping line 14418: expected 3 fields, saw 4\n",
            "Skipping line 14464: expected 3 fields, saw 4\n",
            "Skipping line 14493: expected 3 fields, saw 4\n",
            "Skipping line 14508: expected 3 fields, saw 4\n",
            "Skipping line 14584: expected 3 fields, saw 4\n",
            "Skipping line 14612: expected 3 fields, saw 5\n",
            "Skipping line 14746: expected 3 fields, saw 4\n",
            "Skipping line 14809: expected 3 fields, saw 4\n",
            "Skipping line 14965: expected 3 fields, saw 4\n",
            "Skipping line 14981: expected 3 fields, saw 4\n",
            "Skipping line 15023: expected 3 fields, saw 5\n",
            "Skipping line 15119: expected 3 fields, saw 4\n",
            "Skipping line 15122: expected 3 fields, saw 4\n",
            "Skipping line 15174: expected 3 fields, saw 4\n",
            "Skipping line 15193: expected 3 fields, saw 4\n",
            "Skipping line 15218: expected 3 fields, saw 4\n",
            "Skipping line 15274: expected 3 fields, saw 4\n",
            "Skipping line 15333: expected 3 fields, saw 4\n",
            "Skipping line 15372: expected 3 fields, saw 4\n",
            "Skipping line 15401: expected 3 fields, saw 4\n",
            "Skipping line 15405: expected 3 fields, saw 4\n",
            "Skipping line 15416: expected 3 fields, saw 4\n",
            "Skipping line 15424: expected 3 fields, saw 5\n",
            "Skipping line 15503: expected 3 fields, saw 4\n",
            "Skipping line 15625: expected 3 fields, saw 4\n",
            "Skipping line 15659: expected 3 fields, saw 4\n",
            "Skipping line 15764: expected 3 fields, saw 4\n",
            "Skipping line 15766: expected 3 fields, saw 4\n",
            "Skipping line 15796: expected 3 fields, saw 5\n",
            "Skipping line 15905: expected 3 fields, saw 4\n",
            "Skipping line 15984: expected 3 fields, saw 4\n",
            "Skipping line 15985: expected 3 fields, saw 4\n",
            "Skipping line 16071: expected 3 fields, saw 4\n",
            "Skipping line 16073: expected 3 fields, saw 4\n",
            "Skipping line 16099: expected 3 fields, saw 4\n",
            "Skipping line 16140: expected 3 fields, saw 6\n",
            "Skipping line 16144: expected 3 fields, saw 4\n",
            "Skipping line 16218: expected 3 fields, saw 4\n",
            "Skipping line 16258: expected 3 fields, saw 4\n",
            "Skipping line 16272: expected 3 fields, saw 4\n",
            "Skipping line 16305: expected 3 fields, saw 4\n",
            "Skipping line 16316: expected 3 fields, saw 4\n",
            "Skipping line 16361: expected 3 fields, saw 4\n",
            "Skipping line 16385: expected 3 fields, saw 4\n",
            "Skipping line 16416: expected 3 fields, saw 4\n",
            "Skipping line 16441: expected 3 fields, saw 4\n",
            "Skipping line 16445: expected 3 fields, saw 4\n",
            "Skipping line 16467: expected 3 fields, saw 4\n",
            "Skipping line 16554: expected 3 fields, saw 4\n",
            "Skipping line 16597: expected 3 fields, saw 4\n",
            "Skipping line 16648: expected 3 fields, saw 4\n",
            "Skipping line 16664: expected 3 fields, saw 4\n",
            "Skipping line 16713: expected 3 fields, saw 4\n",
            "Skipping line 16770: expected 3 fields, saw 4\n",
            "Skipping line 16819: expected 3 fields, saw 4\n",
            "Skipping line 16861: expected 3 fields, saw 4\n",
            "Skipping line 16933: expected 3 fields, saw 4\n",
            "Skipping line 17012: expected 3 fields, saw 4\n",
            "Skipping line 17101: expected 3 fields, saw 4\n",
            "Skipping line 17110: expected 3 fields, saw 4\n",
            "Skipping line 17167: expected 3 fields, saw 4\n",
            "Skipping line 17171: expected 3 fields, saw 4\n",
            "Skipping line 17206: expected 3 fields, saw 4\n",
            "Skipping line 17254: expected 3 fields, saw 4\n",
            "Skipping line 17295: expected 3 fields, saw 4\n",
            "Skipping line 17347: expected 3 fields, saw 4\n",
            "Skipping line 17419: expected 3 fields, saw 4\n",
            "Skipping line 17573: expected 3 fields, saw 4\n",
            "Skipping line 17597: expected 3 fields, saw 4\n",
            "Skipping line 17679: expected 3 fields, saw 4\n",
            "\n"
          ]
        }
      ]
    },
    {
      "cell_type": "code",
      "source": [
        "reader = Reader()\n",
        "\n",
        "# get just top 100K rows for faster run time\n",
        "data = Dataset.load_from_df(df[['Cust_Id', 'Movie_Id', 'Rating']][:], reader)\n",
        "#data.split(n_folds=3)\n",
        "\n",
        "svd = SVD()\n",
        "cross_validate(svd, data, measures=['RMSE', 'MAE'])"
      ],
      "metadata": {
        "colab": {
          "base_uri": "https://localhost:8080/"
        },
        "id": "n2zf53kXEuWN",
        "outputId": "09ea8555-04a4-4ce6-bef4-6966f6ed0798"
      },
      "execution_count": 10,
      "outputs": [
        {
          "output_type": "execute_result",
          "data": {
            "text/plain": [
              "{'test_rmse': array([1.03449482, 1.0396177 , 1.03987099, 1.03649783, 1.03653864]),\n",
              " 'test_mae': array([0.82510391, 0.82843313, 0.82727731, 0.82641625, 0.82059316]),\n",
              " 'fit_time': (3.4810028076171875,\n",
              "  4.111976385116577,\n",
              "  4.429311752319336,\n",
              "  4.743628978729248,\n",
              "  3.6268398761749268),\n",
              " 'test_time': (0.5496201515197754,\n",
              "  0.4041135311126709,\n",
              "  0.2323002815246582,\n",
              "  0.41698789596557617,\n",
              "  0.24846458435058594)}"
            ]
          },
          "metadata": {},
          "execution_count": 10
        }
      ]
    },
    {
      "cell_type": "code",
      "source": [
        "df_785314 = df[(df['Cust_Id'] == 785314) & (df['Rating'] == 5)]\n",
        "df_785314 = df_785314.set_index('Movie_Id')\n",
        "df_785314 = df_785314.join(df_title)['Name']\n",
        "print(df_785314)"
      ],
      "metadata": {
        "colab": {
          "base_uri": "https://localhost:8080/"
        },
        "id": "vkHcqLyaE8K1",
        "outputId": "cf6961c8-c1e9-4f68-beba-a67f0a1d2c43"
      },
      "execution_count": 11,
      "outputs": [
        {
          "output_type": "stream",
          "name": "stdout",
          "text": [
            "Movie_Id\n",
            "73    Davy Crockett: 50th Anniversary Double Feature\n",
            "Name: Name, dtype: object\n"
          ]
        }
      ]
    },
    {
      "cell_type": "code",
      "source": [
        "df_785314 = df[(df['Cust_Id'] == 785314) & (df['Rating'] == 5)]\n",
        "df_785314 = df_785314.set_index('Movie_Id')\n",
        "df_785314 = df_785314.join(df_title)['Name']\n",
        "print(df_785314)"
      ],
      "metadata": {
        "colab": {
          "base_uri": "https://localhost:8080/"
        },
        "id": "gr0f7v4DFBfr",
        "outputId": "34280a55-805e-43da-daf9-f330bfea95ad"
      },
      "execution_count": 12,
      "outputs": [
        {
          "output_type": "stream",
          "name": "stdout",
          "text": [
            "Movie_Id\n",
            "73    Davy Crockett: 50th Anniversary Double Feature\n",
            "Name: Name, dtype: object\n"
          ]
        }
      ]
    },
    {
      "cell_type": "code",
      "source": [
        "def recommend(movie_title, min_count):\n",
        "    print(\"For movie ({})\".format(movie_title))\n",
        "    print(\"- Top 10 movies recommended based on Pearsons'R correlation - \")\n",
        "    i = int(df_title.index[df_title['Name'] == movie_title][0])\n",
        "    target = df_p[i]\n",
        "    similar_to_target = df_p.corrwith(target)\n",
        "    corr_target = pd.DataFrame(similar_to_target, columns = ['PearsonR'])\n",
        "    corr_target.dropna(inplace = True)\n",
        "    corr_target = corr_target.sort_values('PearsonR', ascending = False)\n",
        "    corr_target.index = corr_target.index.map(int)\n",
        "    corr_target = corr_target.join(df_title).join(df_movie_summary)[['PearsonR', 'Name', 'count', 'mean']]\n",
        "    print(corr_target[corr_target['count']>min_count][:10].to_string(index=False))"
      ],
      "metadata": {
        "id": "ltqGq2c-FGrm"
      },
      "execution_count": 13,
      "outputs": []
    },
    {
      "cell_type": "code",
      "source": [
        "recommend(\"What the #$*! Do We Know!?\", 0)\n"
      ],
      "metadata": {
        "colab": {
          "base_uri": "https://localhost:8080/"
        },
        "id": "_wwDq1qbFPd-",
        "outputId": "caf05570-0c8d-4aa1-e2ae-d0f164d150f3"
      },
      "execution_count": 15,
      "outputs": [
        {
          "output_type": "stream",
          "name": "stdout",
          "text": [
            "For movie (What the #$*! Do We Know!?)\n",
            "- Top 10 movies recommended based on Pearsons'R correlation - \n",
            " PearsonR                            Name  count     mean\n",
            " 1.000000      What the #$*! Do We Know!?  14910 3.189805\n",
            " 0.832918                 Seeta Aur Geeta    116 3.146552\n",
            " 0.791727               Barbarian Queen 2    112 2.669643\n",
            " 0.776569                            Jade    194 2.922680\n",
            " 0.714026 Maya Lin: A Strong Clear Vision    120 3.266667\n",
            " 0.675232            A Yank in the R.A.F.    105 3.380952\n",
            " 0.650555           Zatoichi's Conspiracy    119 2.907563\n",
            " 0.640870                           8 Man     93 2.129032\n",
            " 0.589768                         Boycott    104 2.144231\n",
            " 0.582144                      Crash Dive    527 3.548387\n"
          ]
        }
      ]
    }
  ],
  "metadata": {
    "colab": {
      "provenance": [],
      "authorship_tag": "ABX9TyNoYUCchy3LUiF33Lc4RmnH",
      "include_colab_link": true
    },
    "kernelspec": {
      "display_name": "Python 3",
      "name": "python3"
    },
    "language_info": {
      "name": "python"
    }
  },
  "nbformat": 4,
  "nbformat_minor": 0
}